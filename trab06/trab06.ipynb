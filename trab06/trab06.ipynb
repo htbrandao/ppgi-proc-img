{
 "cells": [
  {
   "cell_type": "markdown",
   "id": "c9b67fd0-edf3-466c-acb2-bd4d61760ac2",
   "metadata": {},
   "source": [
    "# UNB - PPGI\n",
    "# Processamento de Imagem\n",
    "## Trabalho 06\n",
    "\n",
    "Henrique Brandão\n",
    "\n",
    "___"
   ]
  },
  {
   "cell_type": "markdown",
   "id": "cb4c37be-f47f-4947-8c17-7212db5a2826",
   "metadata": {},
   "source": [
    "Escolha duas imagens monocromáticas com bastante detalhes (nem pouco nem exagerado), entre 500 e 700 pixels de largura ou altura. As dimensões da imagem tem que ser bem documentadas e as imagens mostradas.\n",
    "\n",
    "Filtre as imagens no domínio da DFT projetando máscaras (magnitude das respostas em frequência) sob as seguintes condições\n",
    "\n",
    "    - Filtro passa baixas nas duas direções com corte em p/2. \n",
    "    - Filtro passa baixas nas duas direções com corte em p/4. \n",
    "    - Filtro passa baixas nas duas direções com corte em p/8. \n",
    "    - Filtro losango com máximo corte em p. \n",
    "    - Filtro losango com máximo corte em p/2. \n",
    "    - Filtro losango com máximo corte em p/4. \n",
    "    - Filtro passa baixas apenas na direção vertical com corte em p/2. \n",
    "    - Filtro passa baixas apenas na direção vertical com corte em p/4. \n",
    "    - Filtro passa baixas apenas na direção vertical com corte em p/8. \n",
    "    - Filtro passa baixas apenas na direção horizontal com corte em p/2. \n",
    "    - Filtro passa baixas apenas na direção horizontal com corte em p/4. \n",
    "    - Filtro passa baixas apenas na direção horizontal com corte em p/8. \n",
    "    - Filtro passa altas nas duas direções com corte em p/2. \n",
    "    - Filtro passa altas nas duas direções com corte em p/4. \n",
    "    - Filtro passa altas nas duas direções com corte em p/8. \n",
    "    - Filtro passa altas nas duas direções com corte em p/2, adicionando DC. \n",
    "    - Filtro passa altas nas duas direções com corte em p/4, adicionando DC. \n",
    "    - Filtro passa altas nas duas direções com corte em p/8, adicionando DC. \n",
    "\n",
    "As imagens passa-altas devem ter seu níveis de cinza deslocadas pro zero ficar em 128. Isso se faz adicionando um DC constante de 128.  Quando adicionar o valor DC real, não precisa desse viés de 128.   \n",
    "Mostre as máscaras, o espectro, o espectro filtrado e as imagens filtradas.\n",
    "\n",
    "\"Entrega é um documento em PDF em formato de relatório. Código só em sessão de anexo/apêndice. Não precisa enrolar nem colocar background, mas precisa discutir o que você está fazendo e discutir os resultados.\""
   ]
  },
  {
   "cell_type": "code",
   "execution_count": null,
   "id": "0edb2dbb-dd31-45be-a46e-67aff1b2897e",
   "metadata": {},
   "outputs": [],
   "source": []
  },
  {
   "cell_type": "code",
   "execution_count": null,
   "id": "688f306f-6353-4a77-b561-0bddf0e0d1d3",
   "metadata": {},
   "outputs": [],
   "source": []
  }
 ],
 "metadata": {
  "kernelspec": {
   "display_name": "Python 3 (ipykernel)",
   "language": "python",
   "name": "python3"
  },
  "language_info": {
   "codemirror_mode": {
    "name": "ipython",
    "version": 3
   },
   "file_extension": ".py",
   "mimetype": "text/x-python",
   "name": "python",
   "nbconvert_exporter": "python",
   "pygments_lexer": "ipython3",
   "version": "3.10.12"
  }
 },
 "nbformat": 4,
 "nbformat_minor": 5
}
