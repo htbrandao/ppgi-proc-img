{
 "cells": [
  {
   "cell_type": "markdown",
   "id": "c9b67fd0-edf3-466c-acb2-bd4d61760ac2",
   "metadata": {},
   "source": [
    "# UNB - PPGI\n",
    "# Processamento de Imagem\n",
    "## Trabalho 09\n",
    "\n",
    "Henrique Brandão\n",
    "\n",
    "___"
   ]
  },
  {
   "cell_type": "markdown",
   "id": "cb4c37be-f47f-4947-8c17-7212db5a2826",
   "metadata": {},
   "source": [
    "Faça um projeto de processamento de imagens interessante utilizando os conhecimentos que você adquiriu durante o curso. "
   ]
  },
  {
   "cell_type": "code",
   "execution_count": 3,
   "id": "5a532b2b-453d-4fda-8984-3297b239fa4b",
   "metadata": {},
   "outputs": [],
   "source": [
    "import cv2\n",
    "import warnings\n",
    "\n",
    "warnings.filterwarnings('ignore')\n",
    "\n",
    "import numpy as np\n",
    "import seaborn as sns\n",
    "\n",
    "from math import sqrt\n",
    "from random import choice\n",
    "\n",
    "from PIL import Image\n",
    "from sklearn.cluster import KMeans\n",
    "from matplotlib import pyplot as plt\n",
    "\n",
    "%matplotlib inline"
   ]
  },
  {
   "cell_type": "code",
   "execution_count": 6,
   "id": "6f6025a7-c819-41ac-a6d9-de9e02500133",
   "metadata": {},
   "outputs": [],
   "source": [
    "# f1, f2 = 'img01.jpg', 'img02.jpg'\n",
    "\n",
    "# x1 = cv2.cvtColor(cv2.imread(f1), cv2.COLOR_BGR2RGB)\n",
    "# x2 = cv2.cvtColor(cv2.imread(f2), cv2.COLOR_BGR2RGB)"
   ]
  },
  {
   "cell_type": "code",
   "execution_count": 7,
   "id": "fde24ce2-1008-4ece-83c6-eb5146937e2b",
   "metadata": {},
   "outputs": [],
   "source": [
    "# plt.subplot(1,2,1)\n",
    "# plt.title(x1.shape)\n",
    "# plt.imshow(x1)\n",
    "\n",
    "# plt.subplot(1,2,2)\n",
    "# plt.title(x2.shape)\n",
    "# plt.imshow(x2)\n",
    "\n",
    "# plt.show()"
   ]
  },
  {
   "cell_type": "code",
   "execution_count": null,
   "id": "c036aa73-64c7-4766-afaf-ae977fdc3793",
   "metadata": {},
   "outputs": [],
   "source": []
  },
  {
   "cell_type": "code",
   "execution_count": null,
   "id": "ec384a0e-755a-472c-8764-7ec1efb29b16",
   "metadata": {},
   "outputs": [],
   "source": []
  },
  {
   "cell_type": "code",
   "execution_count": null,
   "id": "4144662d-f8d3-4a97-ac54-e9fa6a37cc7d",
   "metadata": {},
   "outputs": [],
   "source": []
  },
  {
   "cell_type": "code",
   "execution_count": null,
   "id": "274477f6-97af-4262-b9e6-2a5cbe9e3527",
   "metadata": {},
   "outputs": [],
   "source": []
  },
  {
   "cell_type": "code",
   "execution_count": null,
   "id": "48c821b7-8f5b-4d35-b2b4-38b7004eec79",
   "metadata": {},
   "outputs": [],
   "source": []
  },
  {
   "cell_type": "code",
   "execution_count": null,
   "id": "2ca816a3-a219-47d8-a714-4927d556543d",
   "metadata": {},
   "outputs": [],
   "source": []
  },
  {
   "cell_type": "code",
   "execution_count": null,
   "id": "2c523a6f-e43d-413b-8123-c379e29e24d6",
   "metadata": {},
   "outputs": [],
   "source": []
  }
 ],
 "metadata": {
  "kernelspec": {
   "display_name": "Python 3 (ipykernel)",
   "language": "python",
   "name": "python3"
  },
  "language_info": {
   "codemirror_mode": {
    "name": "ipython",
    "version": 3
   },
   "file_extension": ".py",
   "mimetype": "text/x-python",
   "name": "python",
   "nbconvert_exporter": "python",
   "pygments_lexer": "ipython3",
   "version": "3.10.12"
  }
 },
 "nbformat": 4,
 "nbformat_minor": 5
}
