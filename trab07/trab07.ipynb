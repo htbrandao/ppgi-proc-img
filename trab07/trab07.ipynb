{
 "cells": [
  {
   "cell_type": "markdown",
   "id": "c9b67fd0-edf3-466c-acb2-bd4d61760ac2",
   "metadata": {},
   "source": [
    "# UNB - PPGI\n",
    "# Processamento de Imagem\n",
    "## Trabalho 07\n",
    "\n",
    "Henrique Brandão\n",
    "\n",
    "___"
   ]
  },
  {
   "cell_type": "markdown",
   "id": "cb4c37be-f47f-4947-8c17-7212db5a2826",
   "metadata": {},
   "source": [
    "Dada a seguinte imagem \n",
    "\n",
    "[warning-triangle.jpg] \n",
    "\n",
    "Use processamento de imagens para gerar uma imagem binária da forma geométrica predominante e processamento morfológico para transformar em um objeto sólido.  \n",
    "\n",
    "Usando o método dos momentos invariantes descubra qual das imagens abaixo mais se encaixa na imagem binária resultante do seu processamento.   \n",
    "\n",
    "[ imagens.png]  \n",
    "\n",
    "Entrega é um documento em PDF em formato de relatório. Código só em sessão de anexo/apêndice. Não precisa enrolar nem colocar background, mas precisa discutir o que você está fazendo e discutir os resultados. "
   ]
  },
  {
   "cell_type": "code",
   "execution_count": 1,
   "id": "5a532b2b-453d-4fda-8984-3297b239fa4b",
   "metadata": {},
   "outputs": [],
   "source": [
    "import cv2\n",
    "\n",
    "import numpy as np\n",
    "import seaborn as sns\n",
    "\n",
    "from math import sqrt\n",
    "from random import choice\n",
    "\n",
    "from PIL import Image\n",
    "from matplotlib import pyplot as plt\n",
    "\n",
    "%matplotlib inline"
   ]
  },
  {
   "cell_type": "code",
   "execution_count": 2,
   "id": "6f6025a7-c819-41ac-a6d9-de9e02500133",
   "metadata": {},
   "outputs": [],
   "source": [
    "f1, f2 = 'img01.jpg', 'img02.jpg'\n",
    "\n",
    "x1, x2 = cv2.imread(f1), cv2.imread(f2)"
   ]
  },
  {
   "cell_type": "code",
   "execution_count": 4,
   "id": "52b80589-8cc2-4f6b-8ee2-ab5a0f9e278a",
   "metadata": {},
   "outputs": [],
   "source": [
    "def equalizacao(imagem):\n",
    "    imagem = cv2.cvtColor(imagem, cv2.COLOR_BGR2GRAY)\n",
    "    imagem = cv2.equalizeHist(imagem)\n",
    "    return imagem"
   ]
  },
  {
   "cell_type": "code",
   "execution_count": null,
   "id": "447446fb-4780-45e3-a711-fb68666cb412",
   "metadata": {},
   "outputs": [],
   "source": []
  },
  {
   "cell_type": "code",
   "execution_count": null,
   "id": "52a77e98-1b4a-4f05-bd15-fd4fe08ae8fa",
   "metadata": {},
   "outputs": [],
   "source": []
  },
  {
   "cell_type": "code",
   "execution_count": null,
   "id": "e16040b1-a034-41e3-8020-b805dc58e3e4",
   "metadata": {},
   "outputs": [],
   "source": []
  },
  {
   "cell_type": "code",
   "execution_count": null,
   "id": "a757b646-e441-4ba7-853c-192b273cbb32",
   "metadata": {},
   "outputs": [],
   "source": []
  },
  {
   "cell_type": "code",
   "execution_count": null,
   "id": "0edb2dbb-dd31-45be-a46e-67aff1b2897e",
   "metadata": {},
   "outputs": [],
   "source": []
  },
  {
   "cell_type": "code",
   "execution_count": null,
   "id": "688f306f-6353-4a77-b561-0bddf0e0d1d3",
   "metadata": {},
   "outputs": [],
   "source": []
  }
 ],
 "metadata": {
  "kernelspec": {
   "display_name": "Python 3 (ipykernel)",
   "language": "python",
   "name": "python3"
  },
  "language_info": {
   "codemirror_mode": {
    "name": "ipython",
    "version": 3
   },
   "file_extension": ".py",
   "mimetype": "text/x-python",
   "name": "python",
   "nbconvert_exporter": "python",
   "pygments_lexer": "ipython3",
   "version": "3.10.12"
  }
 },
 "nbformat": 4,
 "nbformat_minor": 5
}
