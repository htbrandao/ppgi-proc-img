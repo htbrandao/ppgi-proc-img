{
 "cells": [
  {
   "cell_type": "markdown",
   "id": "c9b67fd0-edf3-466c-acb2-bd4d61760ac2",
   "metadata": {},
   "source": [
    "# UNB - PPGI\n",
    "# Processamento de Imagem\n",
    "## Trabalho 03\n",
    "\n",
    "Henrique Brandão\n",
    "\n",
    "___"
   ]
  },
  {
   "cell_type": "markdown",
   "id": "0a622ccc-faad-4eaa-8c5b-b79881278916",
   "metadata": {},
   "source": [
    "Escolha duas imagens monocromáticas , entre 500 e 700 pixels de largura ou altura. As dimensões da imagem tem que ser bem documentadas.\n",
    "\r\n",
    "Processe cada imagem X aplicando uma distorção de perspectiva de forma que a base da imagem fique 20% menor que o topo, seguido de uma rotação de 45% do resultado, formando uma nova imagem Y. Documente o resultado Y, aponte dimensões e faça uma análise\n",
    " \r\n",
    "Inverta os passos do processo para recuperar a imagem X\n",
    "  \r\n",
    "Compare X com X’. Exiba a imagem de erro E=X-X’+1\n",
    "8. \r\n",
    "Entrega é um documento em PDF em formato de relatório. Código só em sessão de anexo/apêndice. Não precisa enrolar nem colocar background, mas precisa discutir o que você está fazendo e discutir os resultaos. "
   ]
  },
  {
   "cell_type": "code",
   "execution_count": null,
   "id": "52b80589-8cc2-4f6b-8ee2-ab5a0f9e278a",
   "metadata": {},
   "outputs": [],
   "source": []
  },
  {
   "cell_type": "code",
   "execution_count": null,
   "id": "f5d7e1b4-bfe1-45d9-a9c3-b614811b9a56",
   "metadata": {},
   "outputs": [],
   "source": []
  },
  {
   "cell_type": "code",
   "execution_count": null,
   "id": "e7781da2-2433-455b-81ca-a89d70f8745d",
   "metadata": {},
   "outputs": [],
   "source": []
  },
  {
   "cell_type": "code",
   "execution_count": null,
   "id": "752c6ac5-9644-457a-9a6a-13e1147dd98f",
   "metadata": {},
   "outputs": [],
   "source": []
  },
  {
   "cell_type": "code",
   "execution_count": null,
   "id": "5af5a7e6-8715-4545-b18d-37d61accf643",
   "metadata": {},
   "outputs": [],
   "source": []
  },
  {
   "cell_type": "code",
   "execution_count": null,
   "id": "ee425690-31dc-44c2-8d35-bf615b4ef070",
   "metadata": {},
   "outputs": [],
   "source": []
  },
  {
   "cell_type": "code",
   "execution_count": null,
   "id": "ee46bfe9-ae8b-4362-995a-863ef99df298",
   "metadata": {},
   "outputs": [],
   "source": []
  },
  {
   "cell_type": "code",
   "execution_count": null,
   "id": "ef761499-5b69-4e2d-839b-e139ad4e4637",
   "metadata": {},
   "outputs": [],
   "source": []
  },
  {
   "cell_type": "code",
   "execution_count": null,
   "id": "29df89c0-5624-4729-8ed0-f0c49fadfba0",
   "metadata": {},
   "outputs": [],
   "source": []
  },
  {
   "cell_type": "code",
   "execution_count": null,
   "id": "9334460a-6c38-4488-93dd-fde05ea422c2",
   "metadata": {},
   "outputs": [],
   "source": []
  },
  {
   "cell_type": "code",
   "execution_count": null,
   "id": "345914cf-74a8-44d8-9cf8-dd66890a619a",
   "metadata": {},
   "outputs": [],
   "source": []
  },
  {
   "cell_type": "code",
   "execution_count": null,
   "id": "a0a50e47-39b5-41ed-8348-ba2b609eb3b4",
   "metadata": {},
   "outputs": [],
   "source": []
  },
  {
   "cell_type": "code",
   "execution_count": null,
   "id": "babb61f5-cd99-4a30-89f4-c017c4e64ff2",
   "metadata": {},
   "outputs": [],
   "source": []
  },
  {
   "cell_type": "code",
   "execution_count": null,
   "id": "a230b0cf-6130-4e48-a667-0900feb61569",
   "metadata": {},
   "outputs": [],
   "source": []
  },
  {
   "cell_type": "code",
   "execution_count": null,
   "id": "ae66192d-3de7-423a-9fb6-41aa5fbbeed3",
   "metadata": {},
   "outputs": [],
   "source": []
  },
  {
   "cell_type": "code",
   "execution_count": null,
   "id": "9a23d7b9-83a2-4fd4-94a5-6b168674927d",
   "metadata": {},
   "outputs": [],
   "source": []
  },
  {
   "cell_type": "code",
   "execution_count": null,
   "id": "0eb9a203-cc26-4e04-9b56-bdedff848a9f",
   "metadata": {},
   "outputs": [],
   "source": []
  },
  {
   "cell_type": "code",
   "execution_count": null,
   "id": "c4be9692-483e-4b44-b97a-28ac6504b4ae",
   "metadata": {},
   "outputs": [],
   "source": []
  },
  {
   "cell_type": "code",
   "execution_count": null,
   "id": "05f31132-a797-4f03-a1aa-33828c197344",
   "metadata": {},
   "outputs": [],
   "source": []
  }
 ],
 "metadata": {
  "kernelspec": {
   "display_name": "Python 3 (ipykernel)",
   "language": "python",
   "name": "python3"
  },
  "language_info": {
   "codemirror_mode": {
    "name": "ipython",
    "version": 3
   },
   "file_extension": ".py",
   "mimetype": "text/x-python",
   "name": "python",
   "nbconvert_exporter": "python",
   "pygments_lexer": "ipython3",
   "version": "3.10.12"
  }
 },
 "nbformat": 4,
 "nbformat_minor": 5
}
